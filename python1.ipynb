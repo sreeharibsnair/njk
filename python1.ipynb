{
 "cells": [
  {
   "cell_type": "code",
   "execution_count": 1,
   "id": "75b7467e",
   "metadata": {},
   "outputs": [
    {
     "name": "stdout",
     "output_type": "stream",
     "text": [
      "Enter the length of the side:4\n",
      "The area of the square is: 16.0\n"
     ]
    }
   ],
   "source": [
    "#write a program to compute the area of a square\n",
    "side=float(input(\"Enter the length of the side:\"))\n",
    "area=side*side\n",
    "print(f\"The area of the square is: {area}\")"
   ]
  },
  {
   "cell_type": "code",
   "execution_count": 4,
   "id": "e40538f7",
   "metadata": {},
   "outputs": [
    {
     "name": "stdout",
     "output_type": "stream",
     "text": [
      "Enter the base of the triangle5\n",
      "Enter the height of the triangle4\n",
      "the area of right angeled triangle: 10.0\n"
     ]
    }
   ],
   "source": [
    "#write a program to compute the area of right angeled triangle\n",
    "base=float(input(\"Enter the base of the triangle\"))\n",
    "height=float(input(\"Enter the height of the triangle\"))\n",
    "area=0.5*base*height\n",
    "print(\"the area of right angeled triangle:\",area)"
   ]
  },
  {
   "cell_type": "code",
   "execution_count": 9,
   "id": "72328006",
   "metadata": {},
   "outputs": [
    {
     "name": "stdout",
     "output_type": "stream",
     "text": [
      "Enter the name:Harry\n",
      "Hello,Harry!\n"
     ]
    }
   ],
   "source": [
    "#write a program that greets the user by printing the word 'hello',\n",
    "#a comma,the name of the user and an exclamation mark after it.(Hello,Harry!)\n",
    "name=input(\"Enter the name:\")\n",
    "print(f\"Hello,{name}!\")"
   ]
  },
  {
   "cell_type": "code",
   "execution_count": 11,
   "id": "71f0a451",
   "metadata": {},
   "outputs": [
    {
     "name": "stdout",
     "output_type": "stream",
     "text": [
      "Enter the number:5\n",
      "4 6\n"
     ]
    }
   ],
   "source": [
    "#WAP that reads an integer number and prints its previous and next numbers.\n",
    "n=int(input(\"Enter the number:\"))\n",
    "print(n-1,n+1)"
   ]
  },
  {
   "cell_type": "code",
   "execution_count": 16,
   "id": "81d17ca1",
   "metadata": {},
   "outputs": [
    {
     "name": "stdout",
     "output_type": "stream",
     "text": [
      "Enter the number:5.5\n",
      "6\n",
      "5\n"
     ]
    }
   ],
   "source": [
    "import math\n",
    "n=float(input(\"Enter the number:\"))\n",
    "print(math.ceil(n))\n",
    "print(math.floor(n))"
   ]
  },
  {
   "cell_type": "code",
   "execution_count": 19,
   "id": "4ea266b1",
   "metadata": {},
   "outputs": [
    {
     "name": "stdout",
     "output_type": "stream",
     "text": [
      "Enter the principle amount:1000\n",
      "Enter the interest rate:10\n",
      "Enter the time in month:21\n",
      "Simple interest:175.0\n"
     ]
    }
   ],
   "source": [
    "#Write a python program for computing simple interest\n",
    "P=float(input(\"Enter the principle amount:\"))\n",
    "R=float(input(\"Enter the interest rate:\"))\n",
    "T=float(input(\"Enter the time in month:\"))\n",
    "SI=(P*R*(T/12))/100\n",
    "print(f\"Simple interest:{SI}\")"
   ]
  },
  {
   "cell_type": "code",
   "execution_count": null,
   "id": "4cb9eb7e",
   "metadata": {},
   "outputs": [],
   "source": []
  }
 ],
 "metadata": {
  "kernelspec": {
   "display_name": "Python 3 (ipykernel)",
   "language": "python",
   "name": "python3"
  },
  "language_info": {
   "codemirror_mode": {
    "name": "ipython",
    "version": 3
   },
   "file_extension": ".py",
   "mimetype": "text/x-python",
   "name": "python",
   "nbconvert_exporter": "python",
   "pygments_lexer": "ipython3",
   "version": "3.11.5"
  }
 },
 "nbformat": 4,
 "nbformat_minor": 5
}

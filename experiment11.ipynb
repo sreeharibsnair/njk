{
 "cells": [
  {
   "cell_type": "code",
   "execution_count": 15,
   "id": "c31bf68e",
   "metadata": {},
   "outputs": [
    {
     "name": "stdout",
     "output_type": "stream",
     "text": [
      "Enter a line of text: Hello World Hello World\n",
      "\n",
      "Word occurrences:\n",
      "Hello : 2\n",
      "World : 2\n"
     ]
    }
   ],
   "source": [
    "#1. Program to count the occurrences of each word in a line of text\n",
    "text=input(\"Enter a line of text: \")\n",
    "words=text.split()\n",
    "count={}\n",
    "for w in words:\n",
    "    if w in count:\n",
    "        count[w]+=1 \n",
    "    else:\n",
    "        count[w]=1\n",
    "print(\"\\nWord occurrences:\")\n",
    "for word in count:\n",
    "    print(word,\":\",count[word])"
   ]
  },
  {
   "cell_type": "code",
   "execution_count": 18,
   "id": "af1670c6",
   "metadata": {},
   "outputs": [
    {
     "name": "stdout",
     "output_type": "stream",
     "text": [
      "Enter integers: 243 54 8 67 53 43 467\n",
      "['over', 54, 8, 67, 53, 43, 'over']\n"
     ]
    }
   ],
   "source": [
    "#2. Prompt the user for a list of integers. For all values greater than 100, store ‘over’ instead.\n",
    "numbers=input(\"Enter integers: \").split()\n",
    "result=[]\n",
    "for n in numbers:\n",
    "    n=int(n)\n",
    "    if n>100:\n",
    "        result.append(\"over\")\n",
    "    else:\n",
    "        result.append(n)\n",
    "print(result)"
   ]
  },
  {
   "cell_type": "code",
   "execution_count": 21,
   "id": "32632155",
   "metadata": {},
   "outputs": [
    {
     "name": "stdout",
     "output_type": "stream",
     "text": [
      "Enter names: Sreehari Nihad Drishya Jobin Karuna Ihsan\n",
      "Total occurrences of 'a': 6\n"
     ]
    }
   ],
   "source": [
    "#3. Store a list of first names. Count the occurrences of ‘a’ within the list\n",
    "list=input(\"Enter names: \").split()\n",
    "s=sum(n.count('a')+n.count('A') for n in list)\n",
    "print(\"Total occurrences of 'a':\",s)"
   ]
  },
  {
   "cell_type": "code",
   "execution_count": 24,
   "id": "23b527b9",
   "metadata": {},
   "outputs": [
    {
     "name": "stdout",
     "output_type": "stream",
     "text": [
      "Enter two numbers: 56 87\n",
      "GCD is 1\n"
     ]
    }
   ],
   "source": [
    "#4. Find the gcd of two numbers\n",
    "a,b=map(int,input(\"Enter two numbers: \").split())\n",
    "while b:\n",
    "    a,b=b,a%b\n",
    "print(\"GCD is\",a)"
   ]
  },
  {
   "cell_type": "code",
   "execution_count": 4,
   "id": "d42998d1",
   "metadata": {},
   "outputs": [
    {
     "name": "stdout",
     "output_type": "stream",
     "text": [
      "Enter integers: 1 2 3 4 5 6 7 8 9\n",
      "Numbers after removing even numbers: [1, 3, 5, 7, 9]\n"
     ]
    }
   ],
   "source": [
    "#5. From a list of integers, create a list removing even numbers\n",
    "nums=list(map(int,input(\"Enter integers: \").split()))\n",
    "on=[n for n in nums if n%2!=0]\n",
    "print(\"Numbers after removing even numbers:\",on)"
   ]
  },
  {
   "cell_type": "code",
   "execution_count": null,
   "id": "fab37d00",
   "metadata": {},
   "outputs": [],
   "source": [
    "#6. Program to find the factorial of a number\n",
    "num=int(input(\"Enter a number: \"))\n",
    "factorial=1\n",
    "for i in range(1,num+1):\n",
    "    factorial*=i\n",
    "print(\"Factorial of\",num,\"is\",factorial)"
   ]
  },
  {
   "cell_type": "code",
   "execution_count": 7,
   "id": "ab64cb79",
   "metadata": {},
   "outputs": [
    {
     "name": "stdout",
     "output_type": "stream",
     "text": [
      "Enter numbers: 2 3 5 7 8 443\n",
      "Sum= 468\n"
     ]
    }
   ],
   "source": [
    "#8. Find the sum of all items in a list\n",
    "l=list(map(int,input(\"Enter numbers: \").split()));s=0\n",
    "for n in l:\n",
    "    s+=n\n",
    "print(\"Sum=\",s)"
   ]
  },
  {
   "cell_type": "code",
   "execution_count": 9,
   "id": "0ad2234b",
   "metadata": {},
   "outputs": [
    {
     "name": "stdout",
     "output_type": "stream",
     "text": [
      "Enter a string: sreehari nair\n",
      "Character frequency: {'a': 2, 'h': 1, 'i': 2, 's': 1, 'e': 2, 'n': 1, 'r': 3, ' ': 1}\n"
     ]
    }
   ],
   "source": [
    "#10. Count the number of characters (character frequency) in a string\n",
    "s=input(\"Enter a string: \")\n",
    "num={c:\n",
    "     s.count(c) for c in set(s)}\n",
    "print(\"Character frequency:\",num)"
   ]
  },
  {
   "cell_type": "code",
   "execution_count": null,
   "id": "db91f385",
   "metadata": {},
   "outputs": [],
   "source": []
  },
  {
   "cell_type": "code",
   "execution_count": 5,
   "id": "5c4ad87d",
   "metadata": {},
   "outputs": [
    {
     "name": "stdout",
     "output_type": "stream",
     "text": [
      "Enter N: 5\n",
      "1\n",
      "2   4\n",
      "3   6   9\n",
      "4   8   12   16\n",
      "5   10   15   20   25\n"
     ]
    }
   ],
   "source": [
    "#11. Display the given pyramid with step number accepted from user\n",
    "N=int(input(\"Enter N: \"))\n",
    "for i in range(1, N+1):\n",
    "    print(\"   \".join([str(i*j) for j in range(1,i+1)]))"
   ]
  },
  {
   "cell_type": "code",
   "execution_count": null,
   "id": "60fea24c",
   "metadata": {},
   "outputs": [],
   "source": []
  }
 ],
 "metadata": {
  "kernelspec": {
   "display_name": "Python 3 (ipykernel)",
   "language": "python",
   "name": "python3"
  },
  "language_info": {
   "codemirror_mode": {
    "name": "ipython",
    "version": 3
   },
   "file_extension": ".py",
   "mimetype": "text/x-python",
   "name": "python",
   "nbconvert_exporter": "python",
   "pygments_lexer": "ipython3",
   "version": "3.11.4"
  }
 },
 "nbformat": 4,
 "nbformat_minor": 5
}

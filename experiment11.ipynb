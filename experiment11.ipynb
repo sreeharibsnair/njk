{
 "cells": [
  {
   "cell_type": "code",
   "execution_count": 16,
   "id": "c31bf68e",
   "metadata": {},
   "outputs": [
    {
     "name": "stdout",
     "output_type": "stream",
     "text": [
      "Enter a line of text: Hello world Hello World\n",
      "\n",
      "Word occurrences:\n",
      "Hello : 2\n",
      "world : 1\n",
      "World : 1\n"
     ]
    }
   ],
   "source": [
    "#1. Program to count the occurrences of each word in a line of text\n",
    "text=input(\"Enter a line of text: \")\n",
    "words=text.split()\n",
    "count={}\n",
    "for w in words:\n",
    "    if w in count:\n",
    "        count[w]+=1 \n",
    "    else:\n",
    "        count[w]=1\n",
    "print(\"\\nWord occurrences:\")\n",
    "for word in count:\n",
    "    print(word,\":\",count[word])"
   ]
  },
  {
   "cell_type": "code",
   "execution_count": 20,
   "id": "af1670c6",
   "metadata": {},
   "outputs": [
    {
     "name": "stdout",
     "output_type": "stream",
     "text": [
      "Enter integers: 253 46 3 243 56 53 23 46 4653\n",
      "Greater the hundreds replaced with over: ['over', 46, 3, 'over', 56, 53, 23, 46, 'over']\n"
     ]
    }
   ],
   "source": [
    "#2. Prompt the user for a list of integers. For all values greater than 100, store ‘over’ instead.\n",
    "numbers=input(\"Enter integers: \").split()\n",
    "result=[]\n",
    "for n in numbers:\n",
    "    n=int(n)\n",
    "    if n>100:\n",
    "        result.append(\"over\")\n",
    "    else:\n",
    "        result.append(n)\n",
    "print(\"Greater the hundreds replaced with over:\",result)"
   ]
  },
  {
   "cell_type": "code",
   "execution_count": 18,
   "id": "32632155",
   "metadata": {},
   "outputs": [
    {
     "name": "stdout",
     "output_type": "stream",
     "text": [
      "Enter names: malayalam tamil english\n",
      "Total occurrences of 'a': 5\n"
     ]
    }
   ],
   "source": [
    "#3. Store a list of first names. Count the occurrences of ‘a’ within the list\n",
    "list=input(\"Enter names: \").split()\n",
    "s=sum(n.count('a')+n.count('A') for n in list)\n",
    "print(\"Total occurrences of 'a':\",s)"
   ]
  },
  {
   "cell_type": "code",
   "execution_count": 24,
   "id": "23b527b9",
   "metadata": {},
   "outputs": [
    {
     "name": "stdout",
     "output_type": "stream",
     "text": [
      "Enter two numbers: 56 87\n",
      "GCD is 1\n"
     ]
    }
   ],
   "source": [
    "#4. Find the gcd of two numbers\n",
    "a,b=map(int,input(\"Enter two numbers: \").split())\n",
    "while b:\n",
    "    a,b=b,a%b\n",
    "print(\"GCD is\",a)"
   ]
  },
  {
   "cell_type": "code",
   "execution_count": 4,
   "id": "d42998d1",
   "metadata": {},
   "outputs": [
    {
     "name": "stdout",
     "output_type": "stream",
     "text": [
      "Enter integers: 1 2 3 4 5 6 7 8 9\n",
      "Numbers after removing even numbers: [1, 3, 5, 7, 9]\n"
     ]
    }
   ],
   "source": [
    "#5. From a list of integers, create a list removing even numbers\n",
    "nums=list(map(int,input(\"Enter integers: \").split()))\n",
    "on=[n for n in nums if n%2!=0]\n",
    "print(\"Numbers after removing even numbers:\",on)"
   ]
  },
  {
   "cell_type": "code",
   "execution_count": 22,
   "id": "a585390b",
   "metadata": {},
   "outputs": [
    {
     "name": "stdout",
     "output_type": "stream",
     "text": [
      "Enter a number: 5\n",
      "Factorial of 5 is 120\n"
     ]
    }
   ],
   "source": [
    "#6. Program to find the factorial of a number\n",
    "num=int(input(\"Enter a number: \"))\n",
    "factorial=1\n",
    "for i in range(1,num+1):\n",
    "    factorial*=i\n",
    "print(\"Factorial of\",num,\"is\",factorial)"
   ]
  },
  {
   "cell_type": "code",
   "execution_count": 22,
   "id": "2292b0a6",
   "metadata": {},
   "outputs": [
    {
     "name": "stdout",
     "output_type": "stream",
     "text": [
      "Enter a number: 5\n",
      "Fibonacci series:  0 1 1 2 3 "
     ]
    }
   ],
   "source": [
    "#7. Generate Fibonacci series of N terms\n",
    "fib=int(input(\"Enter a number: \"))\n",
    "a,b=0,1\n",
    "print(\"Fibonacci series: \",end=\" \")\n",
    "for i in range(fib):\n",
    "    print(a,end=\" \")\n",
    "    a,b=b,a+b"
   ]
  },
  {
   "cell_type": "code",
   "execution_count": 4,
   "id": "ab64cb79",
   "metadata": {},
   "outputs": [
    {
     "name": "stdout",
     "output_type": "stream",
     "text": [
      "Enter numbers: 2 5 4 66\n",
      "Sum= 77\n"
     ]
    }
   ],
   "source": [
    "#8. Find the sum of all items in a list\n",
    "l=list(map(int, input(\"Enter numbers: \").split()))\n",
    "s=0\n",
    "for n in l:\n",
    "    s+=n\n",
    "print(\"Sum=\",s)"
   ]
  },
  {
   "cell_type": "code",
   "execution_count": 7,
   "id": "3cc28da8",
   "metadata": {},
   "outputs": [
    {
     "name": "stdout",
     "output_type": "stream",
     "text": [
      "Enter 4 digit range: 1000 9999\n",
      "4-digit perfect squares with all even digits:\n",
      "4624\n",
      "6084\n",
      "6400\n",
      "8464\n"
     ]
    }
   ],
   "source": [
    "#9. Generate a list of four digit numbers in a given range with all their digits even and the number is a perfect square.\n",
    "import math\n",
    "a,b=map(int,input(\"Enter 4 digit range: \").split())\n",
    "found=False\n",
    "print(\"4-digit perfect squares with all even digits:\")\n",
    "for i in range(a,b+1):\n",
    "    root=int(math.sqrt(i))\n",
    "    if root*root==i:\n",
    "        for d in str(i):\n",
    "            if int(d)%2!=0:\n",
    "                break\n",
    "        else:\n",
    "            print(i)\n",
    "            found=True\n",
    "if not found:\n",
    "    print(\"No numbers found in this range\")"
   ]
  },
  {
   "cell_type": "code",
   "execution_count": 13,
   "id": "26859fad",
   "metadata": {},
   "outputs": [
    {
     "name": "stdout",
     "output_type": "stream",
     "text": [
      "Enter a string: sreehari\n",
      "Character frequencies = {'s': 1, 'r': 2, 'e': 2, 'h': 1, 'a': 1, 'i': 1}\n"
     ]
    }
   ],
   "source": [
    "#10. Count the number of characters (character frequency) in a string\n",
    "string=input(\"Enter a string: \")\n",
    "freq={}\n",
    "for char in string:\n",
    "    if char in freq:\n",
    "        freq[char]+=1\n",
    "    else:\n",
    "        freq[char]=1\n",
    "print(\"Character frequencies =\",freq)"
   ]
  },
  {
   "cell_type": "code",
   "execution_count": 12,
   "id": "9ef322be",
   "metadata": {},
   "outputs": [
    {
     "name": "stdout",
     "output_type": "stream",
     "text": [
      "Enter the number of steps: 5\n",
      "1 \n",
      "2 4 \n",
      "3 6 9 \n",
      "4 8 12 16 \n",
      "5 10 15 20 25 \n"
     ]
    }
   ],
   "source": [
    "#11. Display the given pyramid with step number accepted from user\n",
    "n=int(input(\"Enter the number of steps: \"))\n",
    "for i in range(1,n+1):\n",
    "    for j in range(1,i+1):\n",
    "        print(i*j,end=\" \")\n",
    "    print()"
   ]
  }
 ],
 "metadata": {
  "kernelspec": {
   "display_name": "Python 3 (ipykernel)",
   "language": "python",
   "name": "python3"
  },
  "language_info": {
   "codemirror_mode": {
    "name": "ipython",
    "version": 3
   },
   "file_extension": ".py",
   "mimetype": "text/x-python",
   "name": "python",
   "nbconvert_exporter": "python",
   "pygments_lexer": "ipython3",
   "version": "3.11.4"
  }
 },
 "nbformat": 4,
 "nbformat_minor": 5
}

{
 "cells": [
  {
   "cell_type": "code",
   "execution_count": 4,
   "id": "b1aec791",
   "metadata": {},
   "outputs": [
    {
     "name": "stdout",
     "output_type": "stream",
     "text": [
      "1. Rectangle\n",
      "2. Circle\n",
      "3. Cuboid\n",
      "4. Sphere\n",
      "5. Exit\n",
      "Enter your choice: 2\n",
      "Enter radius: 4\n"
     ]
    },
    {
     "ename": "AttributeError",
     "evalue": "module 'GRAPHICS.circle' has no attribute 'circlearea'",
     "output_type": "error",
     "traceback": [
      "\u001b[0;31m---------------------------------------------------------------------------\u001b[0m",
      "\u001b[0;31mAttributeError\u001b[0m                            Traceback (most recent call last)",
      "Cell \u001b[0;32mIn[4], line 18\u001b[0m\n\u001b[1;32m     16\u001b[0m \u001b[38;5;28;01melif\u001b[39;00m ch \u001b[38;5;241m==\u001b[39m \u001b[38;5;241m2\u001b[39m:\n\u001b[1;32m     17\u001b[0m     r \u001b[38;5;241m=\u001b[39m \u001b[38;5;28mint\u001b[39m(\u001b[38;5;28minput\u001b[39m(\u001b[38;5;124m\"\u001b[39m\u001b[38;5;124mEnter radius: \u001b[39m\u001b[38;5;124m\"\u001b[39m))\n\u001b[0;32m---> 18\u001b[0m     circle\u001b[38;5;241m.\u001b[39mcirclearea(r)\n\u001b[1;32m     19\u001b[0m     circle\u001b[38;5;241m.\u001b[39mcircleperi(r)\n\u001b[1;32m     21\u001b[0m \u001b[38;5;28;01melif\u001b[39;00m ch \u001b[38;5;241m==\u001b[39m \u001b[38;5;241m3\u001b[39m:\n",
      "\u001b[0;31mAttributeError\u001b[0m: module 'GRAPHICS.circle' has no attribute 'circlearea'"
     ]
    }
   ],
   "source": [
    "from GRAPHICS import rectangle\n",
    "from GRAPHICS import circle\n",
    "from GRAPHICS.GRAPHICS3D import cuboid\n",
    "from GRAPHICS.GRAPHICS3D import sphere\n",
    "\n",
    "while True:\n",
    "    print(\"1. Rectangle\\n2. Circle\\n3. Cuboid\\n4. Sphere\\n5. Exit\")\n",
    "    ch = int(input(\"Enter your choice: \"))\n",
    "\n",
    "    if ch == 1:\n",
    "        l = int(input(\"Enter length: \"))\n",
    "        b = int(input(\"Enter breadth: \"))\n",
    "        rectangle.rectarea(l, b)\n",
    "        rectangle.rectperi(l, b)\n",
    "\n",
    "    elif ch == 2:\n",
    "        r = int(input(\"Enter radius: \"))\n",
    "        circle.circlearea(r)\n",
    "        circle.circleperi(r)\n",
    "\n",
    "    elif ch == 3:\n",
    "        l = int(input(\"Enter length: \"))\n",
    "        b = int(input(\"Enter breadth: \"))\n",
    "        h = int(input(\"Enter height: \"))\n",
    "        cuboid.cuboidarea(l, b, h)\n",
    "        cuboid.cuboidperi(l, b, h)\n",
    "\n",
    "    elif ch == 4:\n",
    "        r = int(input(\"Enter radius: \"))\n",
    "        sphere.spherearea(r)\n",
    "        sphere.sphereperi(r)\n",
    "\n",
    "    elif ch == 5:\n",
    "        print(\"Exiting...\")\n",
    "        break\n",
    "\n",
    "    else:\n",
    "        print(\"Invalid choice! Try again.\")\n"
   ]
  },
  {
   "cell_type": "code",
   "execution_count": null,
   "id": "5fa07f03",
   "metadata": {},
   "outputs": [],
   "source": []
  }
 ],
 "metadata": {
  "kernelspec": {
   "display_name": "Python 3 (ipykernel)",
   "language": "python",
   "name": "python3"
  },
  "language_info": {
   "codemirror_mode": {
    "name": "ipython",
    "version": 3
   },
   "file_extension": ".py",
   "mimetype": "text/x-python",
   "name": "python",
   "nbconvert_exporter": "python",
   "pygments_lexer": "ipython3",
   "version": "3.11.4"
  }
 },
 "nbformat": 4,
 "nbformat_minor": 5
}

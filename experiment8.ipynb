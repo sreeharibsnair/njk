{
 "cells": [
  {
   "cell_type": "code",
   "execution_count": 8,
   "id": "b112bc82",
   "metadata": {},
   "outputs": [
    {
     "name": "stdout",
     "output_type": "stream",
     "text": [
      "Enter colors for set1: blue yellow green\n",
      "Enter colors for set2: red white green\n",
      "Set1: {'green', 'blue', 'yellow'}\n",
      "Set2: {'white', 'green', 'red'}\n",
      "Colors in set1 not in set2: {'blue', 'yellow'}\n"
     ]
    }
   ],
   "source": [
    "#Write a python program to printout all colors from color set 1 not contained in color set2\n",
    "s1=set(input(\"Enter colors for set1: \").split())\n",
    "s2=set(input(\"Enter colors for set2: \").split())\n",
    "print(\"Set1:\",s1)\n",
    "print(\"Set2:\",s2)\n",
    "print(\"Colors in set1 not in set2:\",s1 -s2)"
   ]
  },
  {
   "cell_type": "code",
   "execution_count": 10,
   "id": "4257235e",
   "metadata": {},
   "outputs": [
    {
     "name": "stdout",
     "output_type": "stream",
     "text": [
      "Enter colors for set1: blue red green\n",
      "Enter colors for set2: white yellow red\n",
      "Set1: {'green', 'blue', 'red'}\n",
      "Set2: {'white', 'yellow', 'red'}\n",
      "All colors from both sets: {'white', 'green', 'yellow', 'red', 'blue'}\n"
     ]
    }
   ],
   "source": [
    "#Write a python program to printout all colors from color set 1 and color set2\n",
    "s1=set(input(\"Enter colors for set1: \").split())\n",
    "s2=set(input(\"Enter colors for set2: \").split())\n",
    "print(\"Set1:\",s1)\n",
    "print(\"Set2:\",s2)\n",
    "print(\"All colors from both sets:\",s1|s2)\n"
   ]
  }
 ],
 "metadata": {
  "kernelspec": {
   "display_name": "Python 3 (ipykernel)",
   "language": "python",
   "name": "python3"
  },
  "language_info": {
   "codemirror_mode": {
    "name": "ipython",
    "version": 3
   },
   "file_extension": ".py",
   "mimetype": "text/x-python",
   "name": "python",
   "nbconvert_exporter": "python",
   "pygments_lexer": "ipython3",
   "version": "3.11.4"
  }
 },
 "nbformat": 4,
 "nbformat_minor": 5
}

{
 "cells": [
  {
   "cell_type": "code",
   "execution_count": 4,
   "id": "e319900f",
   "metadata": {},
   "outputs": [
    {
     "name": "stdout",
     "output_type": "stream",
     "text": [
      "Roll: 1\n",
      "Name: sreehari\n",
      "Roll: 6\n",
      "Name: ihasan\n",
      "Roll: 4\n",
      "Name: jobin\n",
      "Roll: 4\n",
      "Name: nihad\n",
      "Roll: 5\n",
      "Name: vyshak\n",
      "Ascending: {1: 'sreehari', 4: 'nihad', 5: 'vyshak', 6: 'ihasan'}\n",
      "Descending: {6: 'ihasan', 5: 'vyshak', 4: 'nihad', 1: 'sreehari'}\n"
     ]
    }
   ],
   "source": [
    "#Write a Python program to accept 5 students' names and roll numbers, and map these into a dictionary(roll as key, name as value). Sort the dictionary in ascending and descending order of their roll number [use sorted()] \n",
    "d={}\n",
    "r1=int(input(\"Roll: \"));n1=input(\"Name: \");d[r1]=n1\n",
    "r2=int(input(\"Roll: \"));n2=input(\"Name: \");d[r2]=n2\n",
    "r3=int(input(\"Roll: \"));n3=input(\"Name: \");d[r3]=n3\n",
    "r4=int(input(\"Roll: \"));n4=input(\"Name: \");d[r4]=n4\n",
    "r5=int(input(\"Roll: \"));n5=input(\"Name: \");d[r5]=n5\n",
    "print(\"Ascending:\",dict(sorted(d.items())))\n",
    "print(\"Descending:\",dict(sorted(d.items(),reverse=True)))"
   ]
  },
  {
   "cell_type": "code",
   "execution_count": 11,
   "id": "9610e9bd",
   "metadata": {},
   "outputs": [
    {
     "name": "stdout",
     "output_type": "stream",
     "text": [
      "Enter 3 rolls for dic1: 1,2,3\n",
      "Enter 3 names for dic1: Mohan lal,Suresh Gopi,Muhammad Kutti\n",
      "Enter 2 rolls for dic2: 4,5\n",
      "Enter 2 names for dic2: Unni Mukundan,Mammooty\n",
      "Dictionary 1: {1: 'Mohan lal', 2: 'Suresh Gopi', 3: 'Muhammad Kutti'}\n",
      "Dictionary 2: {4: 'Unni Mukundan', 5: 'Mammooty'}\n",
      "Merged: {1: 'Mohan lal', 2: 'Suresh Gopi', 3: 'Muhammad Kutti', 4: 'Unni Mukundan', 5: 'Mammooty'}\n"
     ]
    }
   ],
   "source": [
    "#Write a Python program to accept 2 dictionaries (dic1 contains 3 students' names and roll numbers, and dic2 contains 2 students' names and roll numbers). Merge 2 dictionaries and display it [use update()]\n",
    "r1=list(map(int,input(\"Enter 3 rolls for dic1: \").split(',')))\n",
    "n1=input(\"Enter 3 names for dic1: \").split(',')\n",
    "dic1=dict(zip(r1,n1))\n",
    "r2=list(map(int,input(\"Enter 2 rolls for dic2: \").split(',')))\n",
    "n2=input(\"Enter 2 names for dic2: \").split(',')\n",
    "dic2=dict(zip(r2,n2))\n",
    "print(\"Dictionary 1:\",dic1)\n",
    "print(\"Dictionary 2:\",dic2)\n",
    "dic1.update(dic2)\n",
    "print(\"Merged:\",dic1)"
   ]
  },
  {
   "cell_type": "code",
   "execution_count": null,
   "id": "049cfede",
   "metadata": {},
   "outputs": [],
   "source": []
  },
  {
   "cell_type": "code",
   "execution_count": null,
   "id": "02438ade",
   "metadata": {},
   "outputs": [],
   "source": [
    "\n",
    "\n"
   ]
  },
  {
   "cell_type": "code",
   "execution_count": null,
   "id": "c3c4e4e5",
   "metadata": {},
   "outputs": [],
   "source": []
  },
  {
   "cell_type": "code",
   "execution_count": null,
   "id": "3435b9a0",
   "metadata": {},
   "outputs": [],
   "source": []
  },
  {
   "cell_type": "code",
   "execution_count": null,
   "id": "3221a517",
   "metadata": {},
   "outputs": [],
   "source": []
  },
  {
   "cell_type": "code",
   "execution_count": null,
   "id": "972b0769",
   "metadata": {},
   "outputs": [],
   "source": []
  },
  {
   "cell_type": "code",
   "execution_count": null,
   "id": "7372f89f",
   "metadata": {},
   "outputs": [],
   "source": []
  },
  {
   "cell_type": "code",
   "execution_count": null,
   "id": "fea10e28",
   "metadata": {},
   "outputs": [],
   "source": []
  }
 ],
 "metadata": {
  "kernelspec": {
   "display_name": "Python 3 (ipykernel)",
   "language": "python",
   "name": "python3"
  },
  "language_info": {
   "codemirror_mode": {
    "name": "ipython",
    "version": 3
   },
   "file_extension": ".py",
   "mimetype": "text/x-python",
   "name": "python",
   "nbconvert_exporter": "python",
   "pygments_lexer": "ipython3",
   "version": "3.11.4"
  }
 },
 "nbformat": 4,
 "nbformat_minor": 5
}
